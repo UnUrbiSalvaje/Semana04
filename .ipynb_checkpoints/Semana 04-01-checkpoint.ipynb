{
 "cells": [
  {
   "cell_type": "markdown",
   "id": "06866ce8",
   "metadata": {},
   "source": [
    "# Semana 04"
   ]
  },
  {
   "cell_type": "markdown",
   "id": "6b6df22f",
   "metadata": {},
   "source": [
    "1. Colecciones de datos\n",
    "2. Estructuras decisivas y estructuras repetitivas\n",
    "3. Clases y objetos\n",
    "4. Funciones"
   ]
  },
  {
   "cell_type": "code",
   "execution_count": 1,
   "id": "eb13bc9c",
   "metadata": {},
   "outputs": [
    {
     "name": "stdout",
     "output_type": "stream",
     "text": [
      "['ASUNCION', 'AYQUIPA', 'BARZOLA', 'CAMAN']\n"
     ]
    }
   ],
   "source": [
    "# 1.1 Listas\n",
    "# Es una colección de elementos que puede ser ordenada, modificada, etc...\n",
    "# Se identifica por los corchetes\n",
    "# Ejemplo:\n",
    "aula = ['ASUNCION','AYQUIPA','BARZOLA','CAMAN']\n",
    "print(aula)"
   ]
  },
  {
   "cell_type": "code",
   "execution_count": 2,
   "id": "b8e813d6",
   "metadata": {},
   "outputs": [
    {
     "data": {
      "text/plain": [
       "['ASUNCION', 'AYQUIPA', 'BARZOLA', 'CAMAN']"
      ]
     },
     "execution_count": 2,
     "metadata": {},
     "output_type": "execute_result"
    }
   ],
   "source": [
    "# También se puede imprimir con solo mencionar la lista\n",
    "aula"
   ]
  },
  {
   "cell_type": "code",
   "execution_count": 3,
   "id": "9bdfe768",
   "metadata": {},
   "outputs": [
    {
     "data": {
      "text/plain": [
       "'Chavez'"
      ]
     },
     "execution_count": 3,
     "metadata": {},
     "output_type": "execute_result"
    }
   ],
   "source": [
    "# Puedo asignar un valor a una posición de la lista\n",
    "aula[1] = 'Chavez'\n",
    "aula [1]"
   ]
  },
  {
   "cell_type": "code",
   "execution_count": 4,
   "id": "97b42d9c",
   "metadata": {},
   "outputs": [
    {
     "data": {
      "text/plain": [
       "['ASUNCION', 'Chavez', 'BARZOLA', 'CAMAN']"
      ]
     },
     "execution_count": 4,
     "metadata": {},
     "output_type": "execute_result"
    }
   ],
   "source": [
    "# Mostramos como quedó la lista\n",
    "aula"
   ]
  },
  {
   "cell_type": "code",
   "execution_count": 5,
   "id": "fadebc4d",
   "metadata": {},
   "outputs": [
    {
     "data": {
      "text/plain": [
       "['ASUNCION', 'Chavez', 'BARZOLA', 'CAMAN', 'Curo', 'Barzola']"
      ]
     },
     "execution_count": 5,
     "metadata": {},
     "output_type": "execute_result"
    }
   ],
   "source": [
    "# Para agregar un elemento utilizamos append\n",
    "aula.append('Curo')\n",
    "aula.append('Barzola')\n",
    "aula"
   ]
  },
  {
   "cell_type": "code",
   "execution_count": 7,
   "id": "ff8085ba",
   "metadata": {},
   "outputs": [
    {
     "data": {
      "text/plain": [
       "['Chavez', 'BARZOLA', 'CAMAN', 'Curo', 'Barzola']"
      ]
     },
     "execution_count": 7,
     "metadata": {},
     "output_type": "execute_result"
    }
   ],
   "source": [
    "# Para eliminar los elementos utilizamos remove()\n",
    "aula.remove('ASUNCION')\n",
    "aula"
   ]
  },
  {
   "cell_type": "code",
   "execution_count": 9,
   "id": "69b469c6",
   "metadata": {},
   "outputs": [
    {
     "data": {
      "text/plain": [
       "['Chavez', 'BARZOLA', 'CAMAN', 'Curo']"
      ]
     },
     "execution_count": 9,
     "metadata": {},
     "output_type": "execute_result"
    }
   ],
   "source": [
    "# Si hubiera varios elementos de valores iguales\n",
    "aula.remove('Barzola')\n",
    "aula"
   ]
  },
  {
   "cell_type": "code",
   "execution_count": 10,
   "id": "99cacc2c",
   "metadata": {},
   "outputs": [
    {
     "data": {
      "text/plain": [
       "4"
      ]
     },
     "execution_count": 10,
     "metadata": {},
     "output_type": "execute_result"
    }
   ],
   "source": [
    "# Para obtener el tamaño utilizamos len()\n",
    "len(aula)"
   ]
  },
  {
   "cell_type": "code",
   "execution_count": 11,
   "id": "5215fdb0",
   "metadata": {},
   "outputs": [
    {
     "name": "stdout",
     "output_type": "stream",
     "text": [
      "Chavez\n",
      "BARZOLA\n",
      "CAMAN\n",
      "Curo\n"
     ]
    }
   ],
   "source": [
    "# Para recorrer podemos utilizar una estructura repetitiva\n",
    "for alumno in aula:\n",
    "    print(alumno)"
   ]
  },
  {
   "cell_type": "code",
   "execution_count": 14,
   "id": "b5eec3ff",
   "metadata": {},
   "outputs": [
    {
     "data": {
      "text/plain": [
       "['Curo', 'CAMAN', 'BARZOLA', 'Chavez']"
      ]
     },
     "execution_count": 14,
     "metadata": {},
     "output_type": "execute_result"
    }
   ],
   "source": [
    "# Para imprimir una lista en orden inverso\n",
    "aula.reverse()\n",
    "aula"
   ]
  },
  {
   "cell_type": "code",
   "execution_count": 15,
   "id": "37ebe66a",
   "metadata": {},
   "outputs": [
    {
     "data": {
      "text/plain": [
       "['BARZOLA', 'CAMAN', 'Chavez', 'Curo']"
      ]
     },
     "execution_count": 15,
     "metadata": {},
     "output_type": "execute_result"
    }
   ],
   "source": [
    "# Para ordenar una lista utilizamos sort()\n",
    "aula.sort()\n",
    "aula"
   ]
  },
  {
   "cell_type": "code",
   "execution_count": 16,
   "id": "4581f7b9",
   "metadata": {},
   "outputs": [
    {
     "data": {
      "text/plain": [
       "('ASUNCION', 'AYQUIPA', 'BARZOLA', 'CAMAN')"
      ]
     },
     "execution_count": 16,
     "metadata": {},
     "output_type": "execute_result"
    }
   ],
   "source": [
    "# 1.2 Truplas \n",
    "# Es una colección de elementos ordenados (Ordenado significa que tiene un índice) que no se puede modificar, es inalterable\n",
    "# No se pueden agregar elementos ni eliminar\n",
    "# Se identifica por los parentesis\n",
    "trupla_aula = ('ASUNCION','AYQUIPA','BARZOLA','CAMAN')\n",
    "trupla_aula\n"
   ]
  },
  {
   "cell_type": "code",
   "execution_count": 17,
   "id": "b5ad1c90",
   "metadata": {},
   "outputs": [
    {
     "name": "stdout",
     "output_type": "stream",
     "text": [
      "ASUNCION\n",
      "AYQUIPA\n",
      "BARZOLA\n",
      "CAMAN\n"
     ]
    }
   ],
   "source": [
    "# Se puede recorrer con una estructura repetitiva\n",
    "# Ejemplo en for\n",
    "for alumno in trupla_aula:\n",
    "    print(alumno)"
   ]
  },
  {
   "cell_type": "code",
   "execution_count": 18,
   "id": "90128c64",
   "metadata": {},
   "outputs": [
    {
     "data": {
      "text/plain": [
       "'BARZOLA'"
      ]
     },
     "execution_count": 18,
     "metadata": {},
     "output_type": "execute_result"
    }
   ],
   "source": [
    "# Se puede extraer un elemento por su posición\n",
    "trupla_aula[2]"
   ]
  },
  {
   "cell_type": "code",
   "execution_count": 19,
   "id": "93c51538",
   "metadata": {},
   "outputs": [
    {
     "data": {
      "text/plain": [
       "4"
      ]
     },
     "execution_count": 19,
     "metadata": {},
     "output_type": "execute_result"
    }
   ],
   "source": [
    "# Para saber la cantidad de elementos en una trupla utilizamos len()\n",
    "len(trupla_aula)"
   ]
  },
  {
   "cell_type": "code",
   "execution_count": 20,
   "id": "2d1ff1a9",
   "metadata": {},
   "outputs": [
    {
     "data": {
      "text/plain": [
       "{'ASUNCION', 'AYQUIPA', 'BARZOLA'}"
      ]
     },
     "execution_count": 20,
     "metadata": {},
     "output_type": "execute_result"
    }
   ],
   "source": [
    "# 1.3 Conjuntos\n",
    "# Es una colección de elementos que no está ordenado \n",
    "# (Significa que no tiene un índice)\n",
    "conjunto_aula = {'ASUNCION','AYQUIPA','BARZOLA'}\n",
    "conjunto_aula"
   ]
  },
  {
   "cell_type": "code",
   "execution_count": 21,
   "id": "44fa0ae5",
   "metadata": {},
   "outputs": [],
   "source": [
    "# OBSERVACIÓN: No se puede acceder por posición pues no considera indexación\n",
    "# Por ejemplo:\n",
    "# conjunto_aula[2]"
   ]
  },
  {
   "cell_type": "code",
   "execution_count": 22,
   "id": "a9c30ca2",
   "metadata": {},
   "outputs": [
    {
     "data": {
      "text/plain": [
       "3"
      ]
     },
     "execution_count": 22,
     "metadata": {},
     "output_type": "execute_result"
    }
   ],
   "source": [
    "# Para saber la cantidad de elementos de un conjunto\n",
    "len(conjunto_aula)"
   ]
  },
  {
   "cell_type": "code",
   "execution_count": 23,
   "id": "a61fa879",
   "metadata": {},
   "outputs": [
    {
     "data": {
      "text/plain": [
       "{'ASUNCION', 'AYQUIPA', 'BARZOLA', 'CAMAN'}"
      ]
     },
     "execution_count": 23,
     "metadata": {},
     "output_type": "execute_result"
    }
   ],
   "source": [
    "# Para agregar elementos al conjunto\n",
    "conjunto_aula.add('CAMAN')\n",
    "conjunto_aula"
   ]
  },
  {
   "cell_type": "code",
   "execution_count": 24,
   "id": "af1ec7b1",
   "metadata": {},
   "outputs": [
    {
     "data": {
      "text/plain": [
       "{'ASUNCION', 'BARZOLA', 'CAMAN'}"
      ]
     },
     "execution_count": 24,
     "metadata": {},
     "output_type": "execute_result"
    }
   ],
   "source": [
    "# Para eliminar elementos al conjunto\n",
    "conjunto_aula.remove('AYQUIPA')\n",
    "conjunto_aula"
   ]
  },
  {
   "cell_type": "code",
   "execution_count": 25,
   "id": "d301d9da",
   "metadata": {},
   "outputs": [
    {
     "data": {
      "text/plain": [
       "{2: 'ASUNCION', 1: 'AYQUIPA', 'dos': 'BARZOLA', '3': 'CAMAN', '0': 'CURO'}"
      ]
     },
     "execution_count": 25,
     "metadata": {},
     "output_type": "execute_result"
    }
   ],
   "source": [
    "# 1.4 Diccionarios\n",
    "# Es una colección, que están indexados, no están ordenados y se puede modificar\n",
    "# Son escritos entre llaves y están formados por pares de elementos\n",
    "# INDICE.VALOR\n",
    "diccionario_aula = {2:'ASUNCION',1:'AYQUIPA','dos':'BARZOLA','3':'CAMAN','0':'CURO'}\n",
    "diccionario_aula"
   ]
  },
  {
   "cell_type": "code",
   "execution_count": 26,
   "id": "a1af9ca2",
   "metadata": {},
   "outputs": [
    {
     "data": {
      "text/plain": [
       "'CURO'"
      ]
     },
     "execution_count": 26,
     "metadata": {},
     "output_type": "execute_result"
    }
   ],
   "source": [
    "# Del diccionario extraer el valor cuyo índice sea cero en String\n",
    "diccionario_aula['0']"
   ]
  },
  {
   "cell_type": "code",
   "execution_count": 27,
   "id": "1bc5bcf9",
   "metadata": {},
   "outputs": [
    {
     "data": {
      "text/plain": [
       "{2: 'ASUNCION',\n",
       " 1: 'AYQUIPA',\n",
       " 'dos': 'BARZOLA',\n",
       " '3': 'CAMAN',\n",
       " '0': 'CURO',\n",
       " '20': 'INCA'}"
      ]
     },
     "execution_count": 27,
     "metadata": {},
     "output_type": "execute_result"
    }
   ],
   "source": [
    "# Para añadir un par de elementos a un diccionario:\n",
    "diccionario_aula['20'] = 'INCA'\n",
    "diccionario_aula"
   ]
  },
  {
   "cell_type": "code",
   "execution_count": 29,
   "id": "0d7a97ac",
   "metadata": {},
   "outputs": [
    {
     "data": {
      "text/plain": [
       "{1: 'AYQUIPA', 'dos': 'BARZOLA', '3': 'CAMAN', '0': 'CURO', '20': 'INCA'}"
      ]
     },
     "execution_count": 29,
     "metadata": {},
     "output_type": "execute_result"
    }
   ],
   "source": [
    "# Para eliminar un valor se utiliza pop()\n",
    "# Por ejemplo, eliminar el elemento de índice dos\n",
    "diccionario_aula.pop(2)\n",
    "diccionario_aula"
   ]
  },
  {
   "cell_type": "code",
   "execution_count": 30,
   "id": "a4cc180c",
   "metadata": {},
   "outputs": [
    {
     "data": {
      "text/plain": [
       "{1: 'AYQUIPA', '3': 'CAMAN', '0': 'CURO', '20': 'INCA'}"
      ]
     },
     "execution_count": 30,
     "metadata": {},
     "output_type": "execute_result"
    }
   ],
   "source": [
    "# Tambien se puede elimnar con del()\n",
    "del(diccionario_aula['dos'])\n",
    "diccionario_aula"
   ]
  },
  {
   "cell_type": "code",
   "execution_count": 34,
   "id": "72515299",
   "metadata": {},
   "outputs": [
    {
     "name": "stdout",
     "output_type": "stream",
     "text": [
      "1\n",
      "3\n",
      "0\n",
      "20\n"
     ]
    }
   ],
   "source": [
    "# Para recorrer todos los elementos\n",
    "for indice in diccionario_aula:\n",
    "   print(indice)"
   ]
  },
  {
   "cell_type": "code",
   "execution_count": 36,
   "id": "20575e9d",
   "metadata": {},
   "outputs": [
    {
     "name": "stdout",
     "output_type": "stream",
     "text": [
      "1 AYQUIPA\n",
      "3 CAMAN\n",
      "0 CURO\n",
      "20 INCA\n"
     ]
    }
   ],
   "source": [
    "# Para obtener el indice y valor de cada elemento utilizamos items()\n",
    "for indice, valor in diccionario_aula.items():\n",
    "    print(indice, valor)"
   ]
  },
  {
   "cell_type": "code",
   "execution_count": 37,
   "id": "e8aaafef",
   "metadata": {},
   "outputs": [],
   "source": [
    "# 1.5 Ejercicio\n",
    "# Dado una lista de [ASUNCION, AYQUIPA, BARZOLA, CAMAN, CURO, INCA, SAHUMA, TALLEDO, URBISAGASTEGUI]\n",
    "# Diseñar un código que muestre si el apellido de un estudiante (Ingresado por el teclado) forma parte de la lista"
   ]
  },
  {
   "cell_type": "code",
   "execution_count": 44,
   "id": "49ad21df",
   "metadata": {},
   "outputs": [
    {
     "data": {
      "text/plain": [
       "['ASUNCION',\n",
       " 'AYQUIPA',\n",
       " 'BARZOLA',\n",
       " 'CAMAN',\n",
       " 'CURO',\n",
       " 'INCA',\n",
       " 'SAHUMA',\n",
       " 'TALLEDO',\n",
       " 'URBISAGASTEGUI']"
      ]
     },
     "execution_count": 44,
     "metadata": {},
     "output_type": "execute_result"
    }
   ],
   "source": [
    "aulaLP3 = ['ASUNCION','AYQUIPA','BARZOLA','CAMAN','CURO','INCA','SAHUMA','TALLEDO','URBISAGASTEGUI']\n",
    "aulaLP3"
   ]
  },
  {
   "cell_type": "code",
   "execution_count": 53,
   "id": "0329cc79",
   "metadata": {},
   "outputs": [
    {
     "name": "stdout",
     "output_type": "stream",
     "text": [
      "URBISAGASTEGUI\n"
     ]
    }
   ],
   "source": [
    "alumno = input()"
   ]
  },
  {
   "cell_type": "code",
   "execution_count": 54,
   "id": "fdc0773e",
   "metadata": {},
   "outputs": [
    {
     "name": "stdout",
     "output_type": "stream",
     "text": [
      "El alumno URBISAGASTEGUI si pertenece al aulaLP3\n"
     ]
    }
   ],
   "source": [
    "if alumno in aulaLP3:\n",
    "    print(f'El alumno {alumno} si pertenece al aulaLP3')\n",
    "else:\n",
    "    print(f'El alumno {alumno} no pertenece al aulaLP3')"
   ]
  },
  {
   "cell_type": "code",
   "execution_count": 49,
   "id": "b63a9dc5",
   "metadata": {},
   "outputs": [
    {
     "name": "stdout",
     "output_type": "stream",
     "text": [
      "MONDRAGON\n"
     ]
    }
   ],
   "source": [
    "alumno = input()"
   ]
  },
  {
   "cell_type": "code",
   "execution_count": 50,
   "id": "e5ab53ec",
   "metadata": {},
   "outputs": [
    {
     "name": "stdout",
     "output_type": "stream",
     "text": [
      "El alumno MONDRAGON no pertenece al aulaLP3\n"
     ]
    }
   ],
   "source": [
    "if alumno in aulaLP3:\n",
    "    print(f'El alumno {alumno} si pertenece al aulaLP3')\n",
    "else:\n",
    "    print(f'El alumno {alumno} no pertenece al aulaLP3')"
   ]
  },
  {
   "cell_type": "code",
   "execution_count": null,
   "id": "607a8089",
   "metadata": {},
   "outputs": [],
   "source": []
  }
 ],
 "metadata": {
  "kernelspec": {
   "display_name": "Python 3 (ipykernel)",
   "language": "python",
   "name": "python3"
  },
  "language_info": {
   "codemirror_mode": {
    "name": "ipython",
    "version": 3
   },
   "file_extension": ".py",
   "mimetype": "text/x-python",
   "name": "python",
   "nbconvert_exporter": "python",
   "pygments_lexer": "ipython3",
   "version": "3.11.4"
  }
 },
 "nbformat": 4,
 "nbformat_minor": 5
}
